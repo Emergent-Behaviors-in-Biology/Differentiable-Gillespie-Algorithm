{
 "cells": [
  {
   "cell_type": "markdown",
   "id": "7a95e4c6-72bb-4d22-842d-63ccff28952f",
   "metadata": {},
   "source": [
    "## Import packages"
   ]
  },
  {
   "cell_type": "code",
   "execution_count": 21,
   "id": "6e8dfed8-62d8-45fb-9f42-b0fe327fd702",
   "metadata": {
    "tags": []
   },
   "outputs": [],
   "source": [
    "import numpy as np\n",
    "import torch\n",
    "import torch.optim as optim\n",
    "import os\n",
    "import matplotlib.pyplot as plt\n",
    "from scipy.stats import multivariate_normal\n",
    "import scipy.stats \n",
    "from scipy.optimize import fsolve\n"
   ]
  },
  {
   "cell_type": "markdown",
   "id": "87f641da-8997-41fa-b513-8a63ab0b8ac1",
   "metadata": {
    "tags": []
   },
   "source": [
    "## Load science paper 5DL1 promoter data points "
   ]
  },
  {
   "cell_type": "code",
   "execution_count": 22,
   "id": "6015e197-a74e-4212-865a-635012af9a70",
   "metadata": {},
   "outputs": [],
   "source": [
    "# Load the data from file\n",
    "data=np.load(\"science_data_5DL1.npy\")\n",
    "\n",
    "# Extract x and y data\n",
    "x_data = data[:, 0]\n",
    "y_data = data[:, 1]\n",
    "\n",
    "# Get unique x values and their corresponding indices\n",
    "unique_x, unique_indices = np.unique(x_data, return_index=True)\n",
    "\n",
    "# Extract unique y values based on unique indices\n",
    "unique_y = y_data[unique_indices]\n",
    "\n",
    "# Create unique data array with x and y values\n",
    "unique_data = np.column_stack((unique_x, unique_y))\n",
    "\n",
    "# Convert mean and variance data to torch tensors\n",
    "mean_data = torch.from_numpy(unique_data[:, 0]).double()\n",
    "var_data = mean_data * torch.from_numpy(unique_data[:, 1]).double()"
   ]
  },
  {
   "cell_type": "markdown",
   "id": "197a0938-9dde-444b-9a8b-cd3758b22f95",
   "metadata": {},
   "source": [
    "## Differentiable Gillespie algorithm\n"
   ]
  },
  {
   "cell_type": "code",
   "execution_count": 23,
   "id": "5d0bce6f-8a85-4776-88e2-381a2d474615",
   "metadata": {
    "tags": []
   },
   "outputs": [],
   "source": [
    "# Stoichiometric matrix defining the effect of each reaction on the system\n",
    "stoic_matrix = torch.tensor([[2.0, 0.0],    # Reaction 1: Promoter state goes from -1 to +1\n",
    "                             [0.0, 1.0],    # Reaction 2: mRNA is produced\n",
    "                             [-2.0, 0.0],   # Reaction 3: Promoter state goes from +1 to -1\n",
    "                             [0.0, -1.0]])  # Reaction 4: Degradation of mRNA\n",
    "\n",
    "def state_jump(reaction_index, stoic_matrix):\n",
    "    \"\"\"\n",
    "    Calculate state jump vector based on the selected reaction index and stoichiometry matrix, where, \n",
    "    state vector -> state vector + state jump vector.\n",
    "\n",
    "    Arguments:\n",
    "        reaction_index: Selected reaction index\n",
    "        stoic_matrix: Stoichiometry matrix\n",
    "\n",
    "    Returns:\n",
    "        State jump vector\n",
    "    \"\"\" \n",
    "    return torch.sum(stoic_matrix * (torch.exp(-b_inv * (reaction_index - torch.arange(stoic_matrix.shape[0]))**2)).view(-1, 1), dim=0)\n",
    "\n",
    "def reaction_selection(breaks, random_num):\n",
    "    \"\"\"\n",
    "    Select reaction based on the transition points and a random number. Transition points are \n",
    "    given by the ratio of cumulative sum of rates and the total rate.\n",
    "\n",
    "    Arguments:\n",
    "        breaks: Transition points between [0,1]\n",
    "        random_num: Random number in [0,1]\n",
    "\n",
    "    Returns:\n",
    "        Index of the next reaction\n",
    "    \"\"\"\n",
    "    return torch.sum(torch.sigmoid(a_inv * (random_num - breaks)))\n",
    "\n",
    "def gillespie_simulation(poff_values, r, g):\n",
    "    \"\"\"\n",
    "    Perform differentiable Gillespie simulation for a 2-state promoter model.\n",
    "    \n",
    "    Arguments:\n",
    "        poff_values: Array of probabilities for promoter to be in OFF state. poff=koff/(kon+koff)\n",
    "        r: Rate of mRNA production.\n",
    "        g: Rate of mRNA degradation.\n",
    "        \n",
    "    Returns:\n",
    "        mean_final_states: Mean of the mRNA levels at the end of the simulation.\n",
    "        variances: Variance of the mRNA levels at the end of the simulation.\n",
    "    \"\"\"\n",
    "    # Initialize random seed for reproducibility\n",
    "    random_seed = torch.randint(1, 10000000, (1,))\n",
    "    torch.manual_seed(random_seed)\n",
    "\n",
    "    mean_final_states = torch.empty(len(unique_data))\n",
    "    variances = torch.empty(len(unique_data))\n",
    "    \n",
    "    for n in range(len(unique_data)):\n",
    "        poff = poff_values[n].unsqueeze(0)\n",
    "        \n",
    "        final_states = 0.0\n",
    "        final_states_squared = 0.0\n",
    "\n",
    "        for j in range(num_simulations):\n",
    "            # Initial 'levels':\n",
    "            # The first component of 'levels' is the promoter state, initialized to -1\n",
    "            # The second component of 'levels' is the mRNA level, initialized to 0.\n",
    "            levels = torch.stack([torch.tensor(-1.0), torch.tensor(0.0)])\n",
    "            current_time = 0.0\n",
    "\n",
    "            while current_time < sim_time:\n",
    "                # Calculate reaction propensities\n",
    "                propensities = torch.stack([(1/poff-1.0) * torch.sigmoid(-c*levels[0]), \n",
    "                                            r * torch.sigmoid(-c*levels[0]), \n",
    "                                            torch.tensor([1.0]) * torch.sigmoid(c * levels[0]), \n",
    "                                            g * levels[1]])\n",
    "                propensities = torch.relu(propensities)\n",
    "\n",
    "                # Sum of all propensities\n",
    "                total_propensity = propensities.sum()\n",
    "\n",
    "                # Time until next reaction\n",
    "                dt = -torch.log(torch.rand(1)) / total_propensity\n",
    "                current_time += dt.item()\n",
    "\n",
    "                if current_time >= sim_time:\n",
    "                    break\n",
    "\n",
    "                # Determine which reaction occurs and update the system state\n",
    "                breaks = (propensities[:-1] / total_propensity).cumsum(dim=0)\n",
    "                reaction_index = reaction_selection(breaks, torch.rand(1))\n",
    "                levels = levels + state_jump(reaction_index, stoic_matrix)\n",
    "                levels[1] = torch.relu(levels[1])  # Ensure non-negative values for the mRNA number\n",
    "\n",
    "            # Accumulate mRNA level and its square\n",
    "            final_states += levels[1]\n",
    "            final_states_squared += levels[1] ** 2\n",
    "\n",
    "        # Calculate mean and variance of mRNA levels\n",
    "        mean_final_state = final_states / num_simulations\n",
    "        variance = final_states_squared / num_simulations - mean_final_state ** 2\n",
    "        \n",
    "        mean_final_states[n] = mean_final_state\n",
    "        variances[n] = variance\n",
    "\n",
    "    return mean_final_states, variances\n",
    "\n",
    "def loss_function(mean_final_states, variances):\n",
    "    \"\"\"\n",
    "    Loss function that calculates the mean squared error of the simulation results against data.\n",
    "\n",
    "    Arguments:\n",
    "        mean_final_states: Mean of the mRNA levels at the end of the simulation.\n",
    "        variances: Variance of the mRNA levels at the end of the simulation.\n",
    "        \n",
    "    Returns:\n",
    "        Loss value\n",
    "    \"\"\"\n",
    "    return torch.mean((mean_final_states - mean_data)**2 + (variances**0.5 - var_data**0.5)**2)\n",
    "\n",
    "# Define a function to write data to a file\n",
    "def write_to_file(filename, *args):\n",
    "    with open(filename, 'a') as file:\n",
    "        file.write(' '.join(map(str, args)) + '\\n')\n"
   ]
  },
  {
   "cell_type": "markdown",
   "id": "c30e91bc-adae-4c6b-abff-f43539bfc1de",
   "metadata": {},
   "source": [
    "## Extract the learned parameter values"
   ]
  },
  {
   "cell_type": "code",
   "execution_count": 24,
   "id": "bc3612cd-5e2a-4358-963a-5a098b94b7e9",
   "metadata": {},
   "outputs": [],
   "source": [
    "# Find the row index with minimum loss value. \n",
    "data=np.loadtxt(\"learning_science_5DL1.txt\")\n",
    "row_index = np.argmin(data[:, -1])\n",
    "r=data[row_index,1]\n",
    "g=data[row_index, 2]\n",
    "\n",
    "# Path to poff_values\n",
    "file_path = 'learning_science_5DL1_poff.txt'\n",
    "\n",
    "# Initialize an empty list to store rows\n",
    "poff_values = []\n",
    "\n",
    "with open(file_path, 'r') as file:\n",
    "    for line in file:\n",
    "        # Remove the trailing number by splitting at the last space and taking the first part\n",
    "        list_str = line.rsplit(' ', 1)[0]\n",
    "        # Remove surrounding brackets\n",
    "        list_str = list_str.strip('[').strip(']')\n",
    "        # Split the remaining string by commas to form a list of strings\n",
    "        str_values = list_str.split(',')\n",
    "        # Convert strings to floats\n",
    "        row = [float(value) for value in str_values]\n",
    "        # Append the row to our data list\n",
    "        poff_values.append(row)\n",
    "  \n",
    "poff_values = poff_values[row_index][:len(unique_data)]    "
   ]
  },
  {
   "cell_type": "markdown",
   "id": "f6e4d914-213d-42bc-8fcb-b0552682bf94",
   "metadata": {},
   "source": [
    "## Standard deviation of r\n"
   ]
  },
  {
   "cell_type": "code",
   "execution_count": 26,
   "id": "3375e0ba-d467-4bb2-926b-4f144d8a43bf",
   "metadata": {
    "tags": []
   },
   "outputs": [
    {
     "name": "stdout",
     "output_type": "stream",
     "text": [
      "28.98746767133203\n"
     ]
    }
   ],
   "source": [
    "# Set random seed for reproducibility\n",
    "torch.manual_seed(42)\n",
    "\n",
    "# Define simulation hyperparameters\n",
    "num_points = 50\n",
    "num_simulations = 200\n",
    "a_inv=200.0\n",
    "b_inv=20.0\n",
    "c=20.0\n",
    "sim_time = 0.2\n",
    "num_points2 = 50\n",
    "\n",
    "# Initialize lists to store loss\n",
    "loss_list = []\n",
    "\n",
    "# Generate a range of r values around the optimal value\n",
    "r_list = np.linspace(r - r * 0.8, r * 2, num_points)\n",
    "\n",
    "# Perform simulation for each r value\n",
    "for r_value in r_list:\n",
    "    # Perform Gillespie simulation\n",
    "    mean, var = gillespie_simulation(torch.tensor(poff_values), torch.tensor([r_value]), torch.tensor([g]))\n",
    "    # Calculate loss based on simulation results\n",
    "    loss = loss_function(mean, var)\n",
    "    loss_list.append(loss.item())\n",
    "\n",
    "# Polynomial fitting\n",
    "degree = 6\n",
    "# Fit a polynomial curve to the loss data\n",
    "coeffs = np.polyfit(r_list, loss_list, degree)\n",
    "poly_func = np.poly1d(coeffs)\n",
    "# Calculate first and second derivatives of the polynomial curve\n",
    "first_derivative = np.polyder(poly_func, 1)\n",
    "second_derivative = np.polyder(poly_func, 2)\n",
    "\n",
    "# Define evaluation points for curvature analysis\n",
    "evaluation_points = np.linspace(r_list[0], r_list[-1], num_points2)\n",
    "\n",
    "# Evaluate curvature at each point\n",
    "curvatures = [second_derivative(point) for point in evaluation_points]\n",
    "\n",
    "# Compute the average curvature\n",
    "average_curvature = np.mean(curvatures)\n",
    "\n",
    "# Compute standard deviation based on average curvature\n",
    "std_r = 1 / np.sqrt(abs(average_curvature))\n",
    "\n",
    "# Print the computed standard deviation\n",
    "print(std_r)"
   ]
  },
  {
   "cell_type": "markdown",
   "id": "3c56cd69-59c0-49f5-9e75-67bd62f00abd",
   "metadata": {
    "tags": []
   },
   "source": [
    "## Standard deviation of $\\gamma$"
   ]
  },
  {
   "cell_type": "code",
   "execution_count": null,
   "id": "6300940f-0075-493f-b3c6-2961d10bf084",
   "metadata": {
    "tags": []
   },
   "outputs": [],
   "source": [
    "# Set random seed for reproducibility\n",
    "torch.manual_seed(42)\n",
    "\n",
    "# Define simulation hyperparameters\n",
    "num_points = 50\n",
    "num_simulation = 200\n",
    "a_inv=200.0\n",
    "b_inv=20.0\n",
    "c=20.0\n",
    "sim_time = 0.2\n",
    "num_points2 = 50\n",
    "\n",
    "# Initialize lists to store loss\n",
    "loss_list = []\n",
    "\n",
    "# Generate a range of g values around the optimal value\n",
    "g_list = np.linspace(g-g*0.8, g*2, num_points)\n",
    "\n",
    "# Perform simulation for each g value\n",
    "for g_value in g_list:\n",
    "    mean, var = gillespie_simulation(torch.tensor(poff_values), torch.tensor([r]), torch.tensor([g_value]))\n",
    "    loss = loss_function(mean, var)\n",
    "    loss_list.append(loss.item())\n",
    "\n",
    "# Polynomial fitting\n",
    "degree = 6\n",
    "# Fit a polynomial curve to the loss data\n",
    "coeffs = np.polyfit(g_list, loss_list, degree)\n",
    "poly_func = np.poly1d(coeffs)\n",
    "# Calculate first and second derivatives of the polynomial curve\n",
    "first_derivative = np.polyder(poly_func, 1)\n",
    "second_derivative = np.polyder(poly_func, 2)\n",
    "\n",
    "# Define evaluation points for curvature analysis\n",
    "evaluation_points = np.linspace(g_list[0], g_list[-1], num_points2)\n",
    "\n",
    "# Evaluate curvature at each point\n",
    "curvatures = [second_derivative(point) for point in evaluation_points]\n",
    "\n",
    "# Compute the average curvature\n",
    "average_curvature = np.mean(curvatures)\n",
    "\n",
    "# Compute standard deviation based on average curvature\n",
    "std_g = 1 / np.sqrt(abs(average_curvature))\n",
    "\n",
    "# Print the computed standard deviation\n",
    "print(std_g)"
   ]
  },
  {
   "cell_type": "markdown",
   "id": "7af3360c-5ec7-4ac7-bec5-59cfc5539db1",
   "metadata": {
    "tags": []
   },
   "source": [
    "## Standard deviation of $r/\\gamma$ using propagation of error"
   ]
  },
  {
   "cell_type": "code",
   "execution_count": null,
   "id": "19eb2026-8bae-428c-9b16-5269edc96e52",
   "metadata": {
    "tags": []
   },
   "outputs": [],
   "source": [
    "std_r_g = (r/g) * ((std_r/r)**2 + (std_g/g)**2)**0.5\n",
    "print(std_r_g)"
   ]
  }
 ],
 "metadata": {
  "kernelspec": {
   "display_name": "Python [conda env:.conda-default] *",
   "language": "python",
   "name": "conda-env-.conda-default-py"
  },
  "language_info": {
   "codemirror_mode": {
    "name": "ipython",
    "version": 3
   },
   "file_extension": ".py",
   "mimetype": "text/x-python",
   "name": "python",
   "nbconvert_exporter": "python",
   "pygments_lexer": "ipython3",
   "version": "3.11.4"
  }
 },
 "nbformat": 4,
 "nbformat_minor": 5
}
